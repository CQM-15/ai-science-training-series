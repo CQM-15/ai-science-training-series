{
 "cells": [
  {
   "cell_type": "markdown",
   "id": "71e7530d-052b-479a-9a9b-4e9050c43c76",
   "metadata": {},
   "source": [
    "# Argone Leadership Computing Facility Artificial Intelligence Training Program\n",
    "## Cesar Francisco Quinones-Martinez (cquinones24)\n",
    "Session 1: Intro to Artificial Intelligence on Supercomputers, 2024-02-09"
   ]
  },
  {
   "cell_type": "markdown",
   "id": "a0d80670-a03d-40c5-9dc8-4d60e6c335df",
   "metadata": {},
   "source": [
    "In this Notebook, I apply the information given by Dr. Huihuo Zheng about linear regression to work on the Homework assignment. I first pass the iterative version of linear regression to verify that it functions in this copy. Afterwards, I will include the changes that were asked for in the Homework."
   ]
  },
  {
   "cell_type": "code",
   "execution_count": 2,
   "id": "5be4abb8-c5b2-430a-820c-f9c9f63ca5cd",
   "metadata": {},
   "outputs": [
    {
     "name": "stdout",
     "output_type": "stream",
     "text": [
      "Index(['Unnamed: 0', 'SalePrice', 'GrLivArea'], dtype='object')\n"
     ]
    }
   ],
   "source": [
    "# Importing the relevant libraries and necessary real estate data:\n",
    "\n",
    "import pandas as pd\n",
    "import numpy as np\n",
    "import matplotlib.pyplot as plt\n",
    "import IPython.display as ipydis\n",
    "import time\n",
    "\n",
    "! [ -e ./slimmed_realestate_data.csv ] || wget https://raw.githubusercontent.com/argonne-lcf/ai-science-training-series/main/01_intro_AI_on_Supercomputer/slimmed_realestate_data.csv\n",
    "data = pd.read_csv('slimmed_realestate_data.csv')\n",
    "print(data.columns)"
   ]
  },
  {
   "cell_type": "code",
   "execution_count": null,
   "id": "3b21d573-d62b-41ba-9383-fa9a70f14742",
   "metadata": {},
   "outputs": [],
   "source": [
    "# Defining neccessary variables for the linear model:\n",
    "# y = m*x + b\n",
    "m = 5\n",
    "b = 1000\n",
    "\n",
    "# Learning rates for m and b and loss history to observe how the model closes in on the answer:\n",
    "learning_rate_m = 1e-7\n",
    "learning_rate_b = 1e-1\n",
    "\n",
    "loss_history = []"
   ]
  },
  {
   "cell_type": "code",
   "execution_count": null,
   "id": "923f61ec-5fec-4a8d-bb96-43d5bc43938f",
   "metadata": {},
   "outputs": [],
   "source": [
    "# Converting data to numpy arrays:\n",
    "data_x = data['GrLivArea'].to_numpy()\n",
    "data_y = data['SalePrice'].to_numpy()\n",
    "loop_N = 30"
   ]
  },
  {
   "cell_type": "code",
   "execution_count": null,
   "id": "9701e151-466d-412e-8985-a3ee539780e8",
   "metadata": {},
   "outputs": [],
   "source": []
  }
 ],
 "metadata": {
  "kernelspec": {
   "display_name": "datascience/conda-2023-01-10",
   "language": "python",
   "name": "conda-2023-01-10"
  },
  "language_info": {
   "codemirror_mode": {
    "name": "ipython",
    "version": 3
   },
   "file_extension": ".py",
   "mimetype": "text/x-python",
   "name": "python",
   "nbconvert_exporter": "python",
   "pygments_lexer": "ipython3",
   "version": "3.10.9"
  }
 },
 "nbformat": 4,
 "nbformat_minor": 5
}
